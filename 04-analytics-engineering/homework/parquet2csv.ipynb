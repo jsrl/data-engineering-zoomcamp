{
 "cells": [
  {
   "cell_type": "code",
   "execution_count": 1,
   "id": "79a67d1f-a683-4c6c-ad35-d3e6d7cfcc66",
   "metadata": {},
   "outputs": [],
   "source": [
    "import pandas as pd\n",
    "import os"
   ]
  },
  {
   "cell_type": "code",
   "execution_count": 6,
   "id": "38ae3402-ec65-416a-a383-481401adc5ed",
   "metadata": {},
   "outputs": [],
   "source": [
    "for f in [_ for _ in os.listdir(os.getcwd()) if _.endswith('.parquet')]:\n",
    "    df = pd.read_parquet(f)\n",
    "    df.to_csv(f.replace('.parquet', '.csv'), index=False)"
   ]
  }
 ],
 "metadata": {
  "kernelspec": {
   "display_name": "Python 3 (ipykernel)",
   "language": "python",
   "name": "python3"
  },
  "language_info": {
   "codemirror_mode": {
    "name": "ipython",
    "version": 3
   },
   "file_extension": ".py",
   "mimetype": "text/x-python",
   "name": "python",
   "nbconvert_exporter": "python",
   "pygments_lexer": "ipython3",
   "version": "3.9.21"
  }
 },
 "nbformat": 4,
 "nbformat_minor": 5
}