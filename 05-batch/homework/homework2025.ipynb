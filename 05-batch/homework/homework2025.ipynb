{
 "cells": [
  {
   "cell_type": "code",
   "execution_count": 1,
   "id": "6f6513cd-f19f-43a9-9a48-d1e34d271d9a",
   "metadata": {},
   "outputs": [],
   "source": [
    "import pandas as pd\n",
    "import pyspark\n",
    "from pyspark.sql import SparkSession"
   ]
  },
  {
   "cell_type": "code",
   "execution_count": 3,
   "id": "a2368a6b-1cb9-446c-9d92-58eb427ad815",
   "metadata": {},
   "outputs": [
    {
     "name": "stderr",
     "output_type": "stream",
     "text": [
      "Setting default log level to \"WARN\".\n",
      "To adjust logging level use sc.setLogLevel(newLevel). For SparkR, use setLogLevel(newLevel).\n",
      "25/02/26 10:02:07 WARN NativeCodeLoader: Unable to load native-hadoop library for your platform... using builtin-java classes where applicable\n"
     ]
    }
   ],
   "source": [
    "spark = SparkSession.builder \\\n",
    "    .master(\"local[*]\") \\\n",
    "    .appName('test') \\\n",
    "    .getOrCreate()"
   ]
  },
  {
   "cell_type": "code",
   "execution_count": 4,
   "id": "16512cb9-6062-4a65-93bc-e539e04db5a7",
   "metadata": {},
   "outputs": [
    {
     "data": {
      "text/plain": [
       "'3.5.4'"
      ]
     },
     "execution_count": 4,
     "metadata": {},
     "output_type": "execute_result"
    }
   ],
   "source": [
    "spark.version"
   ]
  },
  {
   "cell_type": "code",
   "execution_count": 5,
   "id": "5d11c901-2ec3-46ac-ba63-5c008d62196b",
   "metadata": {},
   "outputs": [
    {
     "name": "stdout",
     "output_type": "stream",
     "text": [
      "--2025-02-26 10:05:37--  https://d37ci6vzurychx.cloudfront.net/trip-data/yellow_tripdata_2024-10.parquet\n",
      "Resolving d37ci6vzurychx.cloudfront.net (d37ci6vzurychx.cloudfront.net)... 3.160.226.111, 3.160.226.161, 3.160.226.228, ...\n",
      "Connecting to d37ci6vzurychx.cloudfront.net (d37ci6vzurychx.cloudfront.net)|3.160.226.111|:443... connected.\n",
      "HTTP request sent, awaiting response... 200 OK\n",
      "Length: 64346071 (61M) [binary/octet-stream]\n",
      "Saving to: ‘yellow_tripdata_2024-10.parquet’\n",
      "\n",
      "yellow_tripdata_202 100%[===================>]  61.36M   301MB/s    in 0.2s    \n",
      "\n",
      "2025-02-26 10:05:37 (301 MB/s) - ‘yellow_tripdata_2024-10.parquet’ saved [64346071/64346071]\n",
      "\n"
     ]
    }
   ],
   "source": [
    "!wget https://d37ci6vzurychx.cloudfront.net/trip-data/yellow_tripdata_2024-10.parquet"
   ]
  },
  {
   "cell_type": "code",
   "execution_count": 9,
   "id": "1f7c6ca2-e0c9-45da-bd30-2d84e5ed12fa",
   "metadata": {},
   "outputs": [
    {
     "name": "stderr",
     "output_type": "stream",
     "text": [
      "                                                                                \r"
     ]
    },
    {
     "name": "stdout",
     "output_type": "stream",
     "text": [
      "0\thomework2025/_SUCCESS\n",
      "23M\thomework2025/part-00000-12af7407-9f42-4d4d-9a9a-7052f7b6655c-c000.snappy.parquet\n",
      "23M\thomework2025/part-00001-12af7407-9f42-4d4d-9a9a-7052f7b6655c-c000.snappy.parquet\n",
      "23M\thomework2025/part-00002-12af7407-9f42-4d4d-9a9a-7052f7b6655c-c000.snappy.parquet\n",
      "23M\thomework2025/part-00003-12af7407-9f42-4d4d-9a9a-7052f7b6655c-c000.snappy.parquet\n"
     ]
    }
   ],
   "source": [
    "df = spark.read.parquet(\"yellow_tripdata_2024-10.parquet\").repartition(4)\n",
    "df.write.mode(\"overwrite\").parquet(\"homework2025/\")\n",
    "!du -sh homework2025/*"
   ]
  },
  {
   "cell_type": "code",
   "execution_count": 21,
   "id": "2049f250-9830-4f39-b93d-b60ac612b014",
   "metadata": {},
   "outputs": [],
   "source": [
    "df.createOrReplaceTempView('homework2025')"
   ]
  },
  {
   "cell_type": "code",
   "execution_count": 29,
   "id": "ff11cddc-8574-4120-9469-3826e637e870",
   "metadata": {},
   "outputs": [
    {
     "name": "stdout",
     "output_type": "stream",
     "text": [
      "+----------+\n",
      "|trip_count|\n",
      "+----------+\n",
      "|    128893|\n",
      "+----------+\n",
      "\n"
     ]
    }
   ],
   "source": [
    "trip_count = spark.sql(\"\"\"\n",
    "    SELECT COUNT(*) AS trip_count\n",
    "    FROM homework2025\n",
    "    WHERE tpep_pickup_datetime BETWEEN '2024-10-15 00:00:00' AND '2024-10-15 23:59:59'\n",
    "\"\"\")\n",
    "\n",
    "trip_count.show()"
   ]
  },
  {
   "cell_type": "code",
   "execution_count": 31,
   "id": "dafd4045-1753-4f78-afd6-c660927aad9f",
   "metadata": {},
   "outputs": [
    {
     "name": "stderr",
     "output_type": "stream",
     "text": [
      "[Stage 76:==============>                                           (1 + 3) / 4]\r"
     ]
    },
    {
     "name": "stdout",
     "output_type": "stream",
     "text": [
      "+--------------------+---------------------+------------------+\n",
      "|tpep_pickup_datetime|tpep_dropoff_datetime|             hours|\n",
      "+--------------------+---------------------+------------------+\n",
      "| 2024-10-16 13:03:49|  2024-10-23 07:40:53|162.61777777777777|\n",
      "| 2024-10-03 18:47:25|  2024-10-09 18:06:55|           143.325|\n",
      "| 2024-10-22 16:00:55|  2024-10-28 09:46:33|137.76055555555556|\n",
      "| 2024-10-18 09:53:32|  2024-10-23 04:43:37|114.83472222222223|\n",
      "| 2024-10-21 00:36:24|  2024-10-24 18:30:18| 89.89833333333333|\n",
      "| 2024-10-20 13:30:52|  2024-10-24 06:57:38| 89.44611111111111|\n",
      "| 2024-10-22 16:04:52|  2024-10-25 14:22:49| 70.29916666666666|\n",
      "| 2024-10-12 19:32:51|  2024-10-15 15:07:15| 67.57333333333334|\n",
      "| 2024-10-17 17:58:18|  2024-10-20 12:02:18| 66.06666666666666|\n",
      "| 2024-10-21 14:28:21|  2024-10-23 12:53:42|           46.4225|\n",
      "| 2024-10-20 18:58:28|  2024-10-22 13:17:00| 42.30888888888889|\n",
      "| 2024-10-24 20:29:58|  2024-10-26 10:58:25| 38.47416666666667|\n",
      "| 2024-10-23 23:52:02|  2024-10-25 09:49:06| 33.95111111111111|\n",
      "| 2024-10-02 10:36:50|  2024-10-03 12:54:45| 26.29861111111111|\n",
      "| 2024-10-14 22:39:53|  2024-10-15 23:57:22| 25.29138888888889|\n",
      "| 2024-10-15 11:49:15|  2024-10-16 13:03:33|25.238333333333333|\n",
      "| 2024-10-23 11:22:58|  2024-10-24 11:51:10|             24.47|\n",
      "| 2024-10-20 13:37:44|  2024-10-21 13:37:32|23.996666666666666|\n",
      "| 2024-10-14 20:22:20|  2024-10-15 20:22:03|23.995277777777776|\n",
      "| 2024-10-02 19:04:07|  2024-10-03 19:03:48|23.994722222222222|\n",
      "+--------------------+---------------------+------------------+\n",
      "only showing top 20 rows\n",
      "\n"
     ]
    },
    {
     "name": "stderr",
     "output_type": "stream",
     "text": [
      "                                                                                \r"
     ]
    }
   ],
   "source": [
    "spark.sql(\"\"\"\n",
    "SELECT tpep_pickup_datetime\n",
    ",tpep_dropoff_datetime\n",
    ",(unix_timestamp(tpep_dropoff_datetime) - unix_timestamp(tpep_pickup_datetime)) /3600 as hours\n",
    "FROM homework2025\n",
    "ORDER BY hours desc\n",
    "\"\"\").show()"
   ]
  },
  {
   "cell_type": "code",
   "execution_count": 33,
   "id": "1beab725-15d1-429f-979e-7713671d4f98",
   "metadata": {},
   "outputs": [
    {
     "name": "stdout",
     "output_type": "stream",
     "text": [
      "--2025-02-26 10:36:22--  http://wget/\n",
      "Resolving wget (wget)... failed: Temporary failure in name resolution.\n",
      "wget: unable to resolve host address ‘wget’\n",
      "--2025-02-26 10:36:22--  https://d37ci6vzurychx.cloudfront.net/misc/taxi_zone_lookup.csv\n",
      "Resolving d37ci6vzurychx.cloudfront.net (d37ci6vzurychx.cloudfront.net)... 3.160.226.85, 3.160.226.228, 3.160.226.161, ...\n",
      "Connecting to d37ci6vzurychx.cloudfront.net (d37ci6vzurychx.cloudfront.net)|3.160.226.85|:443... connected.\n",
      "HTTP request sent, awaiting response... 200 OK\n",
      "Length: 12331 (12K) [text/csv]\n",
      "Saving to: ‘taxi_zone_lookup.csv’\n",
      "\n",
      "taxi_zone_lookup.cs 100%[===================>]  12.04K  --.-KB/s    in 0s      \n",
      "\n",
      "2025-02-26 10:36:22 (110 MB/s) - ‘taxi_zone_lookup.csv’ saved [12331/12331]\n",
      "\n",
      "FINISHED --2025-02-26 10:36:22--\n",
      "Total wall clock time: 0.05s\n",
      "Downloaded: 1 files, 12K in 0s (110 MB/s)\n"
     ]
    }
   ],
   "source": [
    "!wget wget https://d37ci6vzurychx.cloudfront.net/misc/taxi_zone_lookup.csv"
   ]
  },
  {
   "cell_type": "code",
   "execution_count": 42,
   "id": "4893cbd6-f66e-4827-a94c-95675cebd026",
   "metadata": {},
   "outputs": [],
   "source": [
    "lookup_spark_df = spark.read.option(\"header\", \"true\").csv(\"taxi_zone_lookup.csv\")\n",
    "lookup_spark_df.createOrReplaceTempView('lookup')"
   ]
  },
  {
   "cell_type": "code",
   "execution_count": 45,
   "id": "66473842-f481-4391-9fde-7a3600577191",
   "metadata": {},
   "outputs": [
    {
     "name": "stderr",
     "output_type": "stream",
     "text": [
      "[Stage 93:>                                                         (0 + 4) / 4]\r"
     ]
    },
    {
     "name": "stdout",
     "output_type": "stream",
     "text": [
      "+---+------------+-------------+--------------------+\n",
      "|cnt|PUlocationID|      Borough|                Zone|\n",
      "+---+------------+-------------+--------------------+\n",
      "|  1|         105|    Manhattan|Governor's Island...|\n",
      "|  2|           5|Staten Island|       Arden Heights|\n",
      "|  2|         199|        Bronx|       Rikers Island|\n",
      "|  3|           2|       Queens|         Jamaica Bay|\n",
      "|  3|         111|     Brooklyn| Green-Wood Cemetery|\n",
      "|  4|         204|Staten Island|   Rossville/Woodrow|\n",
      "|  4|          44|Staten Island|Charleston/Totten...|\n",
      "|  4|          84|Staten Island|Eltingville/Annad...|\n",
      "|  4|         245|Staten Island|       West Brighton|\n",
      "|  4|         187|Staten Island|       Port Richmond|\n",
      "|  6|          59|        Bronx|        Crotona Park|\n",
      "|  6|         109|Staten Island|         Great Kills|\n",
      "|  7|         118|Staten Island|Heartland Village...|\n",
      "|  7|         156|Staten Island|     Mariners Harbor|\n",
      "|  9|         176|Staten Island|             Oakwood|\n",
      "|  9|         206|Staten Island|Saint George/New ...|\n",
      "| 10|          30|       Queens|       Broad Channel|\n",
      "| 10|         172|Staten Island|New Dorp/Midland ...|\n",
      "| 12|         184|        Bronx|     Pelham Bay Park|\n",
      "| 12|         251|Staten Island|         Westerleigh|\n",
      "+---+------------+-------------+--------------------+\n",
      "only showing top 20 rows\n",
      "\n"
     ]
    },
    {
     "name": "stderr",
     "output_type": "stream",
     "text": [
      "                                                                                \r"
     ]
    }
   ],
   "source": [
    "spark.sql(\"\"\"\n",
    "SELECT count(*) as cnt\n",
    ",PUlocationID\n",
    ",Borough\n",
    ",Zone\n",
    "FROM homework2025 inner join lookup\n",
    "on PUlocationID = LocationID\n",
    "GROUP BY PUlocationID, Borough, Zone\n",
    "ORDER BY cnt asc\n",
    "\"\"\").show()"
   ]
  }
 ],
 "metadata": {
  "kernelspec": {
   "display_name": "Python 3 (ipykernel)",
   "language": "python",
   "name": "python3"
  },
  "language_info": {
   "codemirror_mode": {
    "name": "ipython",
    "version": 3
   },
   "file_extension": ".py",
   "mimetype": "text/x-python",
   "name": "python",
   "nbconvert_exporter": "python",
   "pygments_lexer": "ipython3",
   "version": "3.12.2"
  }
 },
 "nbformat": 4,
 "nbformat_minor": 5
}
